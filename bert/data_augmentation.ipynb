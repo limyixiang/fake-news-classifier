{
 "cells": [
  {
   "cell_type": "code",
   "execution_count": 9,
   "metadata": {},
   "outputs": [],
   "source": [
    "# Import libraries\n",
    "import os\n",
    "import json\n",
    "import pandas as pd\n",
    "import numpy as np\n",
    "import nltk\n",
    "import gensim\n",
    "import re\n",
    "import torch\n",
    "import torchvision\n",
    "from sklearn.model_selection import train_test_split\n",
    "from nltk.corpus import stopwords\n",
    "from nltk.tokenize import word_tokenize\n",
    "from nltk.stem import WordNetLemmatizer\n",
    "from gensim.models import Word2Vec\n",
    "from transformers import AutoTokenizer, AutoModelForSequenceClassification, AutoConfig\n",
    "from datasets import load_dataset\n",
    "from collections import Counter\n",
    "\n",
    "# # Download NLTK resources\n",
    "# nltk.download('punkt_tab')\n",
    "# nltk.download('stopwords')\n",
    "# nltk.download('wordnet')"
   ]
  },
  {
   "cell_type": "code",
   "execution_count": 10,
   "metadata": {},
   "outputs": [],
   "source": [
    "# Load the LIAR dataset\n",
    "dataset = \"chengxuphd/liar2\"\n",
    "dataset = load_dataset(dataset)\n",
    "\n",
    "pretrained_model = \"roberta-base\""
   ]
  },
  {
   "cell_type": "code",
   "execution_count": 12,
   "metadata": {},
   "outputs": [
    {
     "name": "stderr",
     "output_type": "stream",
     "text": [
      "Device set to use cuda:0\n",
      "Device set to use cuda:0\n"
     ]
    },
    {
     "data": {
      "application/vnd.jupyter.widget-view+json": {
       "model_id": "9f6bd43092964f47b90b35c003dd0faa",
       "version_major": 2,
       "version_minor": 0
      },
      "text/plain": [
       "Map:   0%|          | 0/18369 [00:00<?, ? examples/s]"
      ]
     },
     "metadata": {},
     "output_type": "display_data"
    },
    {
     "name": "stderr",
     "output_type": "stream",
     "text": [
      "You seem to be using the pipelines sequentially on GPU. In order to maximize efficiency please use a dataset\n"
     ]
    },
    {
     "data": {
      "application/vnd.jupyter.widget-view+json": {
       "model_id": "8cd6d3ea3f604f26a9a65483f16903f2",
       "version_major": 2,
       "version_minor": 0
      },
      "text/plain": [
       "Map:   0%|          | 0/2297 [00:00<?, ? examples/s]"
      ]
     },
     "metadata": {},
     "output_type": "display_data"
    },
    {
     "data": {
      "application/vnd.jupyter.widget-view+json": {
       "model_id": "f33a9fe4ec2644e98271a53149552228",
       "version_major": 2,
       "version_minor": 0
      },
      "text/plain": [
       "Map:   0%|          | 0/2296 [00:00<?, ? examples/s]"
      ]
     },
     "metadata": {},
     "output_type": "display_data"
    }
   ],
   "source": [
    "from transformers import pipeline\n",
    "\n",
    "# Create translation pipelines inside the function for multiprocessing compatibility.\n",
    "device = 0 if torch.cuda.is_available() else -1\n",
    "en_to_fr = pipeline(\"translation\", model=\"Helsinki-NLP/opus-mt-en-fr\", device=device)\n",
    "fr_to_en = pipeline(\"translation\", model=\"Helsinki-NLP/opus-mt-fr-en\", device=device)\n",
    "\n",
    "# Ensure this function is defined at the top level.\n",
    "def back_translate_batch(texts):\n",
    "    # Translate from English to French.\n",
    "    translations = en_to_fr(texts, max_length=512)\n",
    "    pivot_texts = [t[\"translation_text\"] for t in translations]\n",
    "\n",
    "    # Translate back from French to English.\n",
    "    back_translations = fr_to_en(pivot_texts, max_length=512)\n",
    "    final_texts = [t[\"translation_text\"] for t in back_translations]\n",
    "\n",
    "    return final_texts\n",
    "\n",
    "# Define a top-level function for dataset mapping.\n",
    "def add_backtranslated_texts(examples):\n",
    "    return {\"paraphrased_statement\": back_translate_batch(examples[\"statement\"])}\n",
    "\n",
    "# Use the dataset's map function with parallel processing.\n",
    "augmented_dataset = dataset.map(\n",
    "    add_backtranslated_texts,\n",
    "    batched=True,\n",
    ")"
   ]
  },
  {
   "cell_type": "code",
   "execution_count": 13,
   "metadata": {},
   "outputs": [
    {
     "data": {
      "application/vnd.jupyter.widget-view+json": {
       "model_id": "a18a494a1b7d4adfb9a3151cb82d362c",
       "version_major": 2,
       "version_minor": 0
      },
      "text/plain": [
       "Saving the dataset (0/1 shards):   0%|          | 0/18369 [00:00<?, ? examples/s]"
      ]
     },
     "metadata": {},
     "output_type": "display_data"
    },
    {
     "data": {
      "application/vnd.jupyter.widget-view+json": {
       "model_id": "3a84a490e0c841af8eccba500ee126ca",
       "version_major": 2,
       "version_minor": 0
      },
      "text/plain": [
       "Saving the dataset (0/1 shards):   0%|          | 0/2297 [00:00<?, ? examples/s]"
      ]
     },
     "metadata": {},
     "output_type": "display_data"
    },
    {
     "data": {
      "application/vnd.jupyter.widget-view+json": {
       "model_id": "a787292539b04baead9a560b3ae0501b",
       "version_major": 2,
       "version_minor": 0
      },
      "text/plain": [
       "Saving the dataset (0/1 shards):   0%|          | 0/2296 [00:00<?, ? examples/s]"
      ]
     },
     "metadata": {},
     "output_type": "display_data"
    }
   ],
   "source": [
    "augmented_dataset.save_to_disk(\"augmented_dataset\")"
   ]
  },
  {
   "cell_type": "code",
   "execution_count": 15,
   "metadata": {},
   "outputs": [
    {
     "name": "stdout",
     "output_type": "stream",
     "text": [
      "DatasetDict({\n",
      "    train: Dataset({\n",
      "        features: ['id', 'label', 'statement', 'date', 'subject', 'speaker', 'speaker_description', 'state_info', 'true_counts', 'mostly_true_counts', 'half_true_counts', 'mostly_false_counts', 'false_counts', 'pants_on_fire_counts', 'context', 'justification', 'paraphrased_statement'],\n",
      "        num_rows: 18369\n",
      "    })\n",
      "    validation: Dataset({\n",
      "        features: ['id', 'label', 'statement', 'date', 'subject', 'speaker', 'speaker_description', 'state_info', 'true_counts', 'mostly_true_counts', 'half_true_counts', 'mostly_false_counts', 'false_counts', 'pants_on_fire_counts', 'context', 'justification', 'paraphrased_statement'],\n",
      "        num_rows: 2297\n",
      "    })\n",
      "    test: Dataset({\n",
      "        features: ['id', 'label', 'statement', 'date', 'subject', 'speaker', 'speaker_description', 'state_info', 'true_counts', 'mostly_true_counts', 'half_true_counts', 'mostly_false_counts', 'false_counts', 'pants_on_fire_counts', 'context', 'justification', 'paraphrased_statement'],\n",
      "        num_rows: 2296\n",
      "    })\n",
      "})\n"
     ]
    },
    {
     "data": {
      "application/vnd.jupyter.widget-view+json": {
       "model_id": "5fe041b006a34c818f75cd0379ea9724",
       "version_major": 2,
       "version_minor": 0
      },
      "text/plain": [
       "Creating CSV from Arrow format:   0%|          | 0/19 [00:00<?, ?ba/s]"
      ]
     },
     "metadata": {},
     "output_type": "display_data"
    },
    {
     "data": {
      "text/plain": [
       "21051033"
      ]
     },
     "execution_count": 15,
     "metadata": {},
     "output_type": "execute_result"
    }
   ],
   "source": [
    "print(augmented_dataset)\n",
    "augmented_dataset[\"train\"].to_csv(\"augmented_train_dataset.csv\")"
   ]
  },
  {
   "cell_type": "code",
   "execution_count": 5,
   "metadata": {},
   "outputs": [
    {
     "name": "stdout",
     "output_type": "stream",
     "text": [
      "Original: when is this going to change.\n",
      "Paraphrased: When will this change?\n"
     ]
    }
   ],
   "source": [
    "from transformers import MarianMTModel, MarianTokenizer\n",
    "\n",
    "def back_translate(text, src_lang=\"en\", pivot_lang=\"fr\"):\n",
    "    # Define model names based on the pivot language.\n",
    "    model_name_src_to_pivot = f\"Helsinki-NLP/opus-mt-{src_lang}-{pivot_lang}\"\n",
    "    model_name_pivot_to_src = f\"Helsinki-NLP/opus-mt-{pivot_lang}-{src_lang}\"\n",
    "    \n",
    "    # Load tokenizers and models for both translation directions.\n",
    "    tokenizer_src_to_pivot = MarianTokenizer.from_pretrained(model_name_src_to_pivot)\n",
    "    model_src_to_pivot = MarianMTModel.from_pretrained(model_name_src_to_pivot)\n",
    "    \n",
    "    tokenizer_pivot_to_src = MarianTokenizer.from_pretrained(model_name_pivot_to_src)\n",
    "    model_pivot_to_src = MarianMTModel.from_pretrained(model_name_pivot_to_src)\n",
    "    \n",
    "    # Translate from English to the pivot language (e.g., French).\n",
    "    encoded_src = tokenizer_src_to_pivot(text, return_tensors=\"pt\", padding=True, truncation=True)\n",
    "    translated_tokens = model_src_to_pivot.generate(**encoded_src)\n",
    "    pivot_text = tokenizer_src_to_pivot.decode(translated_tokens[0], skip_special_tokens=True)\n",
    "    \n",
    "    # Translate back from the pivot language to English.\n",
    "    encoded_pivot = tokenizer_pivot_to_src(pivot_text, return_tensors=\"pt\", padding=True, truncation=True)\n",
    "    back_translated_tokens = model_pivot_to_src.generate(**encoded_pivot)\n",
    "    final_text = tokenizer_pivot_to_src.decode(back_translated_tokens[0], skip_special_tokens=True)\n",
    "    \n",
    "    return final_text\n",
    "\n",
    "# Example usage:\n",
    "if __name__ == \"__main__\":\n",
    "    original_text = \"when is this going to change.\"\n",
    "    paraphrased_text = back_translate(original_text, src_lang=\"en\", pivot_lang=\"fr\")\n",
    "    print(\"Original:\", original_text)\n",
    "    print(\"Paraphrased:\", paraphrased_text)\n"
   ]
  },
  {
   "cell_type": "code",
   "execution_count": 10,
   "metadata": {},
   "outputs": [
    {
     "name": "stdout",
     "output_type": "stream",
     "text": [
      "Original 1: People committed involuntarily for 72 hours under the Baker Act will get their guns back \"automatically and immediately upon discharge....and their commitment is never entered into a background check database.\n",
      "Backtranslated 1: People committed unintentionally for 72 hours under the Baker law will recover their weapons \"automatically and immediately after their release... and their engagement has never entered a background check database.\n",
      "\n",
      "Original 2: Update: Chuck Schumer's steamy affair with a high school cheerleader confirmed.\n",
      "Backtranslated 2: Update: Chuck Schumer's case with a high school cheerleader has been confirmed.\n",
      "\n",
      "Original 3: Ken Lanci is a lifelong Clevelander\n",
      "Backtranslated 3: Ken Lanci is a Clevelander all his life\n",
      "\n",
      "Original 4: Public support for abortion \"is actually going down a little bit,\" polls show.\n",
      "Backtranslated 4: Public support for abortion \"is dropping a little,\" the polls show.\n",
      "\n",
      "Original 5: The price of gasoline was at $1.85 a gallon when President Barack Obama took office and has since nearly doubled because of his policies\n",
      "Backtranslated 5: The price of gasoline was $1.85 a gallon when President Barack Obama took office and since almost doubled due to his policies\n",
      "\n"
     ]
    }
   ],
   "source": [
    "import random\n",
    "\n",
    "# Randomly pick 5 statements from the dataset\n",
    "random_statements = random.sample(dataset[\"train\"][\"statement\"], 5)\n",
    "\n",
    "# Perform backtranslation on the selected statements\n",
    "for i, statement in enumerate(random_statements, 1):\n",
    "    backtranslated = back_translate(statement)\n",
    "    print(f\"Original {i}: {statement}\")\n",
    "    print(f\"Backtranslated {i}: {backtranslated}\")\n",
    "    print()"
   ]
  },
  {
   "cell_type": "code",
   "execution_count": null,
   "metadata": {},
   "outputs": [
    {
     "data": {
      "application/vnd.jupyter.widget-view+json": {
       "model_id": "ba1afdca92f04703bda640abca6a51be",
       "version_major": 2,
       "version_minor": 0
      },
      "text/plain": [
       "Map:   0%|          | 0/18369 [00:00<?, ? examples/s]"
      ]
     },
     "metadata": {},
     "output_type": "display_data"
    }
   ],
   "source": [
    "tokenizer = AutoTokenizer.from_pretrained(pretrained_model)\n",
    "\n",
    "# # Tokenization function\n",
    "# def tokenize_function(examples):\n",
    "#     return tokenizer(examples[\"statement\"], padding=\"max_length\", truncation=True)\n",
    "\n",
    "# Preprocessing function for text\n",
    "def preprocess_text(text):\n",
    "    text = text.lower()  # Lowercasing\n",
    "    text = re.sub(r'\\W', ' ', text)  # Remove non-alphanumeric characters\n",
    "    tokens = word_tokenize(text)  # Tokenization\n",
    "    tokens = [word for word in tokens if word.isalpha()]  # Remove numbers and punctuation\n",
    "    tokens = [word for word in tokens if word not in stopwords.words('english')]  # Stopword removal\n",
    "    lemmatizer = WordNetLemmatizer()\n",
    "    tokens = [lemmatizer.lemmatize(word) for word in tokens]  # Lemmatization\n",
    "    \n",
    "    return \" \".join(tokens) if tokens else \"\"  # Return the processed text as a string\n",
    "\n",
    "# Combine metadata with the preprocessed statement\n",
    "def preprocess_function(examples):\n",
    "    statements = examples[\"statement\"]\n",
    "    backtranslated_statements = batch_back_translate(statements)\n",
    "    combined_input = [\n",
    "        \"Subject: \" + (subject if subject is not None else \"\") + \n",
    "        \"; Speaker: \" + (speaker if speaker is not None else \"\") + \n",
    "        \"; Speaker Description: \" + (speaker_description if speaker_description is not None else \"\") + \n",
    "        \"; State: \" + (state_info if state_info is not None else \"\") + \n",
    "        \"; Context: \" + (context if context is not None else \"\") + \n",
    "        \"; Statement: \" + (statement if statement is not None else \"\")  # back_translate applied here\n",
    "        # \"; Statement: \" + preprocess_text(statement if statement is not None else \"\")  # Apply preprocess_text here\n",
    "        for subject, speaker, speaker_description, state_info, context, statement in zip(\n",
    "            examples[\"subject\"],\n",
    "            examples[\"speaker\"],\n",
    "            examples[\"speaker_description\"],\n",
    "            examples[\"state_info\"],\n",
    "            examples[\"context\"],\n",
    "            backtranslated_statements\n",
    "        )\n",
    "    ]\n",
    "    return tokenizer(combined_input, padding=\"max_length\", truncation=True)\n",
    "\n",
    "# Apply tokenization to the dataset\n",
    "tokenized_datasets = dataset.map(preprocess_function, batched=True)\n",
    "\n",
    "# Remove unnecessary columns and set format for PyTorch\n",
    "tokenized_datasets = tokenized_datasets.remove_columns([\"id\", \"subject\", \"speaker\", \"speaker_description\", \"state_info\", \"context\", \"true_counts\", \"mostly_true_counts\", \"half_true_counts\", \"mostly_false_counts\", \"false_counts\", \"pants_on_fire_counts\", \"justification\"])\n",
    "# tokenized_datasets = tokenized_datasets.rename_column(\"label\", \"labels\")\n",
    "tokenized_datasets.set_format(\"torch\")\n",
    "\n",
    "# Preprocess labels to binary True / False\n",
    "# label_to_binary = {\n",
    "#     'false': False,\n",
    "#     'half-true': True,\n",
    "#     'mostly-true': True,\n",
    "#     'true': True,\n",
    "#     'barely-true': False,\n",
    "#     'pants-fire': False\n",
    "# }\n",
    "label_to_binary = {\n",
    "    0: False,\n",
    "    1: False,\n",
    "    2: False,\n",
    "    3: True,\n",
    "    4: True,\n",
    "    5: True\n",
    "}\n",
    "\n",
    "# Access labels\n",
    "# labels = dataset[\"train\"].features[\"label\"]\n",
    "\n",
    "# Apply binary label preprocessing\n",
    "tokenized_datasets = tokenized_datasets.map(\n",
    "    lambda examples: {\"label\": [label_to_binary[int(label)] for label in examples[\"label\"]]},\n",
    "    batched=True\n",
    ")\n",
    "\n",
    "# Split into train, validation, and test sets\n",
    "train_dataset = tokenized_datasets[\"train\"]\n",
    "val_dataset = tokenized_datasets[\"validation\"]\n",
    "test_dataset = tokenized_datasets[\"test\"]"
   ]
  },
  {
   "cell_type": "code",
   "execution_count": 12,
   "metadata": {},
   "outputs": [
    {
     "name": "stdout",
     "output_type": "stream",
     "text": [
      "Label distribution in train dataset: Counter({0: 10591, 1: 7778})\n"
     ]
    }
   ],
   "source": [
    "# Verify that dataset is preprocessed correctly\n",
    "\n",
    "# Check label distribution in the train dataset\n",
    "label_list = train_dataset[\"label\"].tolist()\n",
    "print(\"Label distribution in train dataset:\", Counter(label_list))"
   ]
  },
  {
   "cell_type": "code",
   "execution_count": 13,
   "metadata": {},
   "outputs": [
    {
     "name": "stderr",
     "output_type": "stream",
     "text": [
      "c:\\Users\\limyi\\AppData\\Local\\Programs\\Python\\Python312\\Lib\\site-packages\\transformers\\training_args.py:1611: FutureWarning: `evaluation_strategy` is deprecated and will be removed in version 4.46 of 🤗 Transformers. Use `eval_strategy` instead\n",
      "  warnings.warn(\n"
     ]
    }
   ],
   "source": [
    "from transformers import TrainingArguments, Trainer, EarlyStoppingCallback\n",
    "from sklearn.metrics import accuracy_score, precision_recall_fscore_support\n",
    "\n",
    "# Define compute_metrics function\n",
    "def compute_metrics(pred):\n",
    "    labels = pred.label_ids\n",
    "    preds = pred.predictions.argmax(-1)\n",
    "    precision, recall, f1, _ = precision_recall_fscore_support(labels, preds, average=\"binary\")\n",
    "    acc = accuracy_score(labels, preds)\n",
    "    return {\n",
    "        \"accuracy\": acc,\n",
    "        \"f1\": f1,\n",
    "        \"precision\": precision,\n",
    "        \"recall\": recall,\n",
    "    }\n",
    "\n",
    "# Define training arguments (epoch)\n",
    "training_args = TrainingArguments(\n",
    "    output_dir=\"./results\",\n",
    "    evaluation_strategy=\"epoch\",\n",
    "    save_strategy=\"epoch\",\n",
    "    per_device_train_batch_size=16,\n",
    "    per_device_eval_batch_size=16,\n",
    "    num_train_epochs=5,\n",
    "    weight_decay=0.01,\n",
    "    learning_rate=2e-5,\n",
    "    lr_scheduler_type=\"cosine\",\n",
    "    warmup_steps=500,\n",
    "    logging_dir=\"./logs\",\n",
    "    logging_steps=10,\n",
    "    report_to=\"none\",\n",
    "    load_best_model_at_end=True,  # Load the best model at the end of training\n",
    "    metric_for_best_model=\"eval_loss\",  # Specify the metric to monitor\n",
    "    greater_is_better=False       # Specify if higher values of the metric are better\n",
    ")\n",
    "\n",
    "# # Define training arguments (steps for smaller batch logging)\n",
    "# training_args = TrainingArguments(\n",
    "#     output_dir=\"./results\",\n",
    "#     evaluation_strategy=\"steps\",  # Evaluate during training\n",
    "#     eval_steps=100,               # Evaluate every 100 steps\n",
    "#     save_strategy=\"steps\",        # Save checkpoints every 100 steps\n",
    "#     save_steps=100,\n",
    "#     per_device_train_batch_size=16,\n",
    "#     per_device_eval_batch_size=16,\n",
    "#     num_train_epochs=3,\n",
    "#     weight_decay=0.01,\n",
    "#     learning_rate=2e-5,\n",
    "#     logging_dir=\"./logs\",\n",
    "#     logging_steps=10,             # Log every 10 steps\n",
    "#     report_to=\"none\",\n",
    "#     load_best_model_at_end=True,  # Load the best model at the end of training\n",
    "#     metric_for_best_model=\"f1\",  # Specify the metric to monitor\n",
    "#     greater_is_better=True       # Specify if higher values of the metric are better\n",
    "# )"
   ]
  },
  {
   "cell_type": "code",
   "execution_count": null,
   "metadata": {},
   "outputs": [
    {
     "name": "stderr",
     "output_type": "stream",
     "text": [
      "Some weights of RobertaForSequenceClassification were not initialized from the model checkpoint at roberta-base and are newly initialized: ['classifier.dense.bias', 'classifier.dense.weight', 'classifier.out_proj.bias', 'classifier.out_proj.weight']\n",
      "You should probably TRAIN this model on a down-stream task to be able to use it for predictions and inference.\n"
     ]
    },
    {
     "name": "stdout",
     "output_type": "stream",
     "text": [
      "Model is on: cuda:0\n",
      "Learning rate: 2e-05\n"
     ]
    },
    {
     "name": "stderr",
     "output_type": "stream",
     "text": [
      "C:\\Users\\limyi\\AppData\\Local\\Temp\\ipykernel_30752\\3608859766.py:11: FutureWarning: `tokenizer` is deprecated and will be removed in version 5.0.0 for `Trainer.__init__`. Use `processing_class` instead.\n",
      "  trainer = Trainer(\n"
     ]
    },
    {
     "data": {
      "text/html": [
       "\n",
       "    <div>\n",
       "      \n",
       "      <progress value='5745' max='5745' style='width:300px; height:20px; vertical-align: middle;'></progress>\n",
       "      [5745/5745 1:22:07, Epoch 5/5]\n",
       "    </div>\n",
       "    <table border=\"1\" class=\"dataframe\">\n",
       "  <thead>\n",
       " <tr style=\"text-align: left;\">\n",
       "      <th>Epoch</th>\n",
       "      <th>Training Loss</th>\n",
       "      <th>Validation Loss</th>\n",
       "      <th>Accuracy</th>\n",
       "      <th>F1</th>\n",
       "      <th>Precision</th>\n",
       "      <th>Recall</th>\n",
       "    </tr>\n",
       "  </thead>\n",
       "  <tbody>\n",
       "    <tr>\n",
       "      <td>1</td>\n",
       "      <td>0.578400</td>\n",
       "      <td>0.551846</td>\n",
       "      <td>0.679582</td>\n",
       "      <td>0.694859</td>\n",
       "      <td>0.581944</td>\n",
       "      <td>0.862140</td>\n",
       "    </tr>\n",
       "    <tr>\n",
       "      <td>2</td>\n",
       "      <td>0.554800</td>\n",
       "      <td>0.551378</td>\n",
       "      <td>0.720070</td>\n",
       "      <td>0.703550</td>\n",
       "      <td>0.637427</td>\n",
       "      <td>0.784979</td>\n",
       "    </tr>\n",
       "    <tr>\n",
       "      <td>3</td>\n",
       "      <td>0.485800</td>\n",
       "      <td>0.550206</td>\n",
       "      <td>0.734872</td>\n",
       "      <td>0.701324</td>\n",
       "      <td>0.670103</td>\n",
       "      <td>0.735597</td>\n",
       "    </tr>\n",
       "    <tr>\n",
       "      <td>4</td>\n",
       "      <td>0.460900</td>\n",
       "      <td>0.580846</td>\n",
       "      <td>0.720070</td>\n",
       "      <td>0.710230</td>\n",
       "      <td>0.631917</td>\n",
       "      <td>0.810700</td>\n",
       "    </tr>\n",
       "    <tr>\n",
       "      <td>5</td>\n",
       "      <td>0.429600</td>\n",
       "      <td>0.605068</td>\n",
       "      <td>0.721376</td>\n",
       "      <td>0.706422</td>\n",
       "      <td>0.637417</td>\n",
       "      <td>0.792181</td>\n",
       "    </tr>\n",
       "  </tbody>\n",
       "</table><p>"
      ],
      "text/plain": [
       "<IPython.core.display.HTML object>"
      ]
     },
     "metadata": {},
     "output_type": "display_data"
    },
    {
     "data": {
      "text/plain": [
       "TrainOutput(global_step=5745, training_loss=0.49161564542274044, metrics={'train_runtime': 4928.75, 'train_samples_per_second': 18.635, 'train_steps_per_second': 1.166, 'total_flos': 2.41654348795392e+16, 'train_loss': 0.49161564542274044, 'epoch': 5.0})"
      ]
     },
     "execution_count": 14,
     "metadata": {},
     "output_type": "execute_result"
    }
   ],
   "source": [
    "config = AutoConfig.from_pretrained(pretrained_model, num_labels=2, hidden_dropout_prob=0.2, attention_probs_dropout_prob=0.2)\n",
    "model = AutoModelForSequenceClassification.from_pretrained(pretrained_model, config=config)\n",
    "tokenizer = AutoTokenizer.from_pretrained(pretrained_model)\n",
    "device = torch.device(\"cuda\" if torch.cuda.is_available() else \"cpu\")\n",
    "model = model.to(device)\n",
    "training_args.num_train_epochs = 5\n",
    "training_args.learning_rate = 2e-5\n",
    "print(\"Model is on:\", next(model.parameters()).device)\n",
    "print(\"Learning rate:\", training_args.learning_rate)\n",
    "\n",
    "trainer = Trainer(\n",
    "    model=model,\n",
    "    args=training_args,\n",
    "    train_dataset=train_dataset,\n",
    "    eval_dataset=val_dataset,\n",
    "    tokenizer=tokenizer,\n",
    "    compute_metrics=compute_metrics,\n",
    "    callbacks=[EarlyStoppingCallback(early_stopping_patience=2)]\n",
    ")\n",
    "\n",
    "trainer.train()"
   ]
  },
  {
   "cell_type": "code",
   "execution_count": null,
   "metadata": {},
   "outputs": [],
   "source": [
    "trainer.evaluate()"
   ]
  },
  {
   "cell_type": "code",
   "execution_count": 15,
   "metadata": {},
   "outputs": [
    {
     "data": {
      "text/html": [],
      "text/plain": [
       "<IPython.core.display.HTML object>"
      ]
     },
     "metadata": {},
     "output_type": "display_data"
    },
    {
     "name": "stdout",
     "output_type": "stream",
     "text": [
      "Test Metrics:\n",
      "test_loss: 0.5339\n",
      "test_accuracy: 0.7395\n",
      "test_f1: 0.7051\n",
      "test_precision: 0.6777\n",
      "test_recall: 0.7348\n",
      "test_runtime: 39.2421\n",
      "test_samples_per_second: 58.5090\n",
      "test_steps_per_second: 3.6700\n"
     ]
    }
   ],
   "source": [
    "# Conduct testing on the test dataset\n",
    "test_results = trainer.predict(test_dataset)\n",
    "\n",
    "# Extract predictions and metrics\n",
    "predictions = test_results.predictions.argmax(-1)  # Convert logits to class predictions\n",
    "metrics = test_results.metrics  # Contains accuracy, F1, precision, recall, etc.\n",
    "\n",
    "# Print metrics\n",
    "print(\"Test Metrics:\")\n",
    "for key, value in metrics.items():\n",
    "    print(f\"{key}: {value:.4f}\")"
   ]
  },
  {
   "cell_type": "code",
   "execution_count": 16,
   "metadata": {},
   "outputs": [],
   "source": [
    "trainer.save_model(\"./roberta_model\")"
   ]
  },
  {
   "cell_type": "markdown",
   "metadata": {},
   "source": [
    "#### With text cleaning:\n",
    "\n",
    "| Metric                   | Value     |\n",
    "|--------------------------|-----------|\n",
    "| Test Loss                | 0.5277    |\n",
    "| Test Accuracy            | 0.7287    |\n",
    "| Test F1 Score            | 0.7106    |\n",
    "| Test Precision           | 0.6483    |\n",
    "| Test Recall              | 0.7862    |\n",
    "| Test Runtime (seconds)   | 34.2732   |\n",
    "| Test Samples/Second      | 66.9910   |\n",
    "| Test Steps/Second        | 4.2020    |\n",
    "\n",
    "#### Without text cleaning:\n",
    "| Metric                   | Value     |\n",
    "|--------------------------|-----------|\n",
    "| Test Loss                | 0.5339    |\n",
    "| Test Accuracy            | 0.7395    |\n",
    "| Test F1 Score            | 0.7051    |\n",
    "| Test Precision           | 0.6777    |\n",
    "| Test Recall              | 0.7348    |\n",
    "| Test Runtime (seconds)   | 39.2421   |\n",
    "| Test Samples/Second      | 58.5090   |\n",
    "| Test Steps/Second        | 3.6700    |"
   ]
  },
  {
   "cell_type": "code",
   "execution_count": null,
   "metadata": {},
   "outputs": [],
   "source": []
  }
 ],
 "metadata": {
  "kernelspec": {
   "display_name": "Python 3",
   "language": "python",
   "name": "python3"
  },
  "language_info": {
   "codemirror_mode": {
    "name": "ipython",
    "version": 3
   },
   "file_extension": ".py",
   "mimetype": "text/x-python",
   "name": "python",
   "nbconvert_exporter": "python",
   "pygments_lexer": "ipython3",
   "version": "3.12.5"
  }
 },
 "nbformat": 4,
 "nbformat_minor": 2
}
