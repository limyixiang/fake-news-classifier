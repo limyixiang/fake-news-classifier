{
 "cells": [
  {
   "cell_type": "code",
   "execution_count": 1,
   "metadata": {},
   "outputs": [],
   "source": [
    "# Import libraries\n",
    "import os\n",
    "import json\n",
    "import pandas as pd\n",
    "import numpy as np\n",
    "import nltk\n",
    "import gensim\n",
    "import re\n",
    "import torch\n",
    "import torchvision\n",
    "from sklearn.model_selection import train_test_split\n",
    "from nltk.corpus import stopwords\n",
    "from nltk.tokenize import word_tokenize\n",
    "from nltk.stem import WordNetLemmatizer\n",
    "from gensim.models import Word2Vec\n",
    "from transformers import AutoTokenizer, AutoModelForSequenceClassification, AutoConfig\n",
    "from datasets import load_dataset, load_from_disk\n",
    "from collections import Counter\n",
    "\n",
    "# # Download NLTK resources\n",
    "# nltk.download('punkt_tab')\n",
    "# nltk.download('stopwords')\n",
    "# nltk.download('wordnet')"
   ]
  },
  {
   "cell_type": "code",
   "execution_count": 2,
   "metadata": {},
   "outputs": [
    {
     "data": {
      "application/vnd.jupyter.widget-view+json": {
       "model_id": "2eef0526e83c460384c12fef1baade7b",
       "version_major": 2,
       "version_minor": 0
      },
      "text/plain": [
       "Map:   0%|          | 0/18369 [00:00<?, ? examples/s]"
      ]
     },
     "metadata": {},
     "output_type": "display_data"
    },
    {
     "data": {
      "application/vnd.jupyter.widget-view+json": {
       "model_id": "cde1562d96844ff69c4788ab2fd03a47",
       "version_major": 2,
       "version_minor": 0
      },
      "text/plain": [
       "Map:   0%|          | 0/2297 [00:00<?, ? examples/s]"
      ]
     },
     "metadata": {},
     "output_type": "display_data"
    },
    {
     "data": {
      "application/vnd.jupyter.widget-view+json": {
       "model_id": "8b2f7a427e9549ef9bc94bbe6754ee76",
       "version_major": 2,
       "version_minor": 0
      },
      "text/plain": [
       "Map:   0%|          | 0/2296 [00:00<?, ? examples/s]"
      ]
     },
     "metadata": {},
     "output_type": "display_data"
    },
    {
     "data": {
      "application/vnd.jupyter.widget-view+json": {
       "model_id": "f61ba2a764ae4a2bb404e660ff173433",
       "version_major": 2,
       "version_minor": 0
      },
      "text/plain": [
       "Map:   0%|          | 0/18369 [00:00<?, ? examples/s]"
      ]
     },
     "metadata": {},
     "output_type": "display_data"
    },
    {
     "data": {
      "application/vnd.jupyter.widget-view+json": {
       "model_id": "c69e7e0579f24d64a9a11d16ccd46ccb",
       "version_major": 2,
       "version_minor": 0
      },
      "text/plain": [
       "Map:   0%|          | 0/2297 [00:00<?, ? examples/s]"
      ]
     },
     "metadata": {},
     "output_type": "display_data"
    },
    {
     "data": {
      "application/vnd.jupyter.widget-view+json": {
       "model_id": "ebe6fb26321a49dd877b0089b1ad4de8",
       "version_major": 2,
       "version_minor": 0
      },
      "text/plain": [
       "Map:   0%|          | 0/2296 [00:00<?, ? examples/s]"
      ]
     },
     "metadata": {},
     "output_type": "display_data"
    }
   ],
   "source": [
    "# Load the LIAR dataset\n",
    "dataset = load_from_disk(\"augmented_dataset\")\n",
    "\n",
    "pretrained_model = \"./without_icl/normal_roberta_1ep\"\n",
    "\n",
    "tokenizer = AutoTokenizer.from_pretrained(pretrained_model)\n",
    "\n",
    "# # Tokenization function\n",
    "# def tokenize_function(examples):\n",
    "#     return tokenizer(examples[\"statement\"], padding=\"max_length\", truncation=True)\n",
    "\n",
    "# Preprocessing function for text\n",
    "def preprocess_text(text):\n",
    "    text = text.lower()  # Lowercasing\n",
    "    text = re.sub(r'\\W', ' ', text)  # Remove non-alphanumeric characters\n",
    "    tokens = word_tokenize(text)  # Tokenization\n",
    "    tokens = [word for word in tokens if word.isalpha()]  # Remove numbers and punctuation\n",
    "    tokens = [word for word in tokens if word not in stopwords.words('english')]  # Stopword removal\n",
    "    lemmatizer = WordNetLemmatizer()\n",
    "    tokens = [lemmatizer.lemmatize(word) for word in tokens]  # Lemmatization\n",
    "    \n",
    "    return \" \".join(tokens) if tokens else \"\"  # Return the processed text as a string\n",
    "\n",
    "# Combine metadata with the preprocessed statement\n",
    "def preprocess_function(examples):\n",
    "    combined_input = [\n",
    "        \"Subject: \" + (subject if subject is not None else \"\") + \n",
    "        \"; Speaker: \" + (speaker if speaker is not None else \"\") + \n",
    "        \"; Speaker Description: \" + (speaker_description if speaker_description is not None else \"\") + \n",
    "        \"; State: \" + (state_info if state_info is not None else \"\") + \n",
    "        \"; Context: \" + (context if context is not None else \"\") + \n",
    "        \"; Statement: \" + (statement if statement is not None else \"\")  # Don't apply preprocess_text here\n",
    "        # \"; Statement: \" + preprocess_text(statement if statement is not None else \"\")  # Apply preprocess_text here\n",
    "        for subject, speaker, speaker_description, state_info, context, statement in zip(\n",
    "            examples[\"subject\"],\n",
    "            examples[\"speaker\"],\n",
    "            examples[\"speaker_description\"],\n",
    "            examples[\"state_info\"],\n",
    "            examples[\"context\"],\n",
    "            examples[\"paraphrased_statement\"]\n",
    "        )\n",
    "    ]\n",
    "    return tokenizer(combined_input, padding=\"max_length\", truncation=True)\n",
    "\n",
    "# Apply tokenization to the dataset\n",
    "tokenized_datasets = dataset.map(preprocess_function, batched=True)\n",
    "\n",
    "# Remove unnecessary columns and set format for PyTorch\n",
    "tokenized_datasets = tokenized_datasets.remove_columns([\"id\", \"subject\", \"speaker\", \"speaker_description\", \"state_info\", \"context\", \"true_counts\", \"mostly_true_counts\", \"half_true_counts\", \"mostly_false_counts\", \"false_counts\", \"pants_on_fire_counts\", \"justification\"])\n",
    "# tokenized_datasets = tokenized_datasets.rename_column(\"label\", \"labels\")\n",
    "tokenized_datasets.set_format(\"torch\")\n",
    "\n",
    "# Preprocess labels to binary True / False\n",
    "# label_to_binary = {\n",
    "#     'false': False,\n",
    "#     'half-true': True,\n",
    "#     'mostly-true': True,\n",
    "#     'true': True,\n",
    "#     'barely-true': False,\n",
    "#     'pants-fire': False\n",
    "# }\n",
    "label_to_binary = {\n",
    "    # True = FAKE; False = REAL\n",
    "    0: True,\n",
    "    1: True,\n",
    "    2: True,\n",
    "    3: False,\n",
    "    4: False,\n",
    "    5: False\n",
    "}\n",
    "\n",
    "# Access labels\n",
    "# labels = dataset[\"train\"].features[\"label\"]\n",
    "\n",
    "# Apply binary label preprocessing\n",
    "tokenized_datasets = tokenized_datasets.map(\n",
    "    lambda examples: {\"label\": [label_to_binary[int(label)] for label in examples[\"label\"]]},\n",
    "    batched=True\n",
    ")\n",
    "\n",
    "# Split into train, validation, and test sets\n",
    "train_dataset = tokenized_datasets[\"train\"]\n",
    "val_dataset = tokenized_datasets[\"validation\"]\n",
    "test_dataset = tokenized_datasets[\"test\"]"
   ]
  },
  {
   "cell_type": "code",
   "execution_count": 3,
   "metadata": {},
   "outputs": [
    {
     "name": "stdout",
     "output_type": "stream",
     "text": [
      "Label distribution in train dataset: Counter({1: 10591, 0: 7778})\n"
     ]
    }
   ],
   "source": [
    "# Verify that dataset is preprocessed correctly\n",
    "\n",
    "# Check label distribution in the train dataset\n",
    "label_list = train_dataset[\"label\"].tolist()\n",
    "print(\"Label distribution in train dataset:\", Counter(label_list))"
   ]
  },
  {
   "cell_type": "code",
   "execution_count": 4,
   "metadata": {},
   "outputs": [
    {
     "name": "stderr",
     "output_type": "stream",
     "text": [
      "c:\\Users\\limyi\\AppData\\Local\\Programs\\Python\\Python311\\Lib\\site-packages\\transformers\\training_args.py:1611: FutureWarning: `evaluation_strategy` is deprecated and will be removed in version 4.46 of 🤗 Transformers. Use `eval_strategy` instead\n",
      "  warnings.warn(\n"
     ]
    }
   ],
   "source": [
    "from transformers import TrainingArguments, Trainer, EarlyStoppingCallback\n",
    "from sklearn.metrics import accuracy_score, precision_recall_fscore_support\n",
    "\n",
    "# Define compute_metrics function\n",
    "def compute_metrics(pred):\n",
    "    labels = pred.label_ids\n",
    "    preds = pred.predictions.argmax(-1)\n",
    "    precision, recall, f1, _ = precision_recall_fscore_support(labels, preds, average=\"binary\")\n",
    "    acc = accuracy_score(labels, preds)\n",
    "    return {\n",
    "        \"accuracy\": acc,\n",
    "        \"f1\": f1,\n",
    "        \"precision\": precision,\n",
    "        \"recall\": recall,\n",
    "    }\n",
    "\n",
    "# Define training arguments (epoch)\n",
    "training_args = TrainingArguments(\n",
    "    output_dir=\"./results\",\n",
    "    evaluation_strategy=\"epoch\",\n",
    "    save_strategy=\"epoch\",\n",
    "    per_device_train_batch_size=16,\n",
    "    per_device_eval_batch_size=16,\n",
    "    num_train_epochs=5,\n",
    "    weight_decay=0.01,\n",
    "    learning_rate=2e-5,\n",
    "    lr_scheduler_type=\"cosine\",\n",
    "    warmup_steps=500,\n",
    "    logging_dir=\"./logs\",\n",
    "    logging_steps=10,\n",
    "    report_to=\"none\",\n",
    "    load_best_model_at_end=True,  # Load the best model at the end of training\n",
    "    metric_for_best_model=\"recall\",  # Specify the metric to monitor\n",
    "    greater_is_better=True       # Specify if higher values of the metric are better\n",
    ")\n",
    "\n",
    "# # Define training arguments (steps for smaller batch logging)\n",
    "# training_args = TrainingArguments(\n",
    "#     output_dir=\"./results\",\n",
    "#     evaluation_strategy=\"steps\",  # Evaluate during training\n",
    "#     eval_steps=100,               # Evaluate every 100 steps\n",
    "#     save_strategy=\"steps\",        # Save checkpoints every 100 steps\n",
    "#     save_steps=100,\n",
    "#     per_device_train_batch_size=16,\n",
    "#     per_device_eval_batch_size=16,\n",
    "#     num_train_epochs=3,\n",
    "#     weight_decay=0.01,\n",
    "#     learning_rate=2e-5,\n",
    "#     logging_dir=\"./logs\",\n",
    "#     logging_steps=10,             # Log every 10 steps\n",
    "#     report_to=\"none\",\n",
    "#     load_best_model_at_end=True,  # Load the best model at the end of training\n",
    "#     metric_for_best_model=\"f1\",  # Specify the metric to monitor\n",
    "#     greater_is_better=True       # Specify if higher values of the metric are better\n",
    "# )"
   ]
  },
  {
   "cell_type": "code",
   "execution_count": 5,
   "metadata": {},
   "outputs": [
    {
     "name": "stdout",
     "output_type": "stream",
     "text": [
      "Model is on: cuda:0\n",
      "Learning rate: 1.5e-05\n"
     ]
    },
    {
     "name": "stderr",
     "output_type": "stream",
     "text": [
      "C:\\Users\\limyi\\AppData\\Local\\Temp\\ipykernel_27008\\2669159880.py:13: FutureWarning: `tokenizer` is deprecated and will be removed in version 5.0.0 for `Trainer.__init__`. Use `processing_class` instead.\n",
      "  trainer = Trainer(\n"
     ]
    },
    {
     "data": {
      "text/html": [
       "\n",
       "    <div>\n",
       "      \n",
       "      <progress value='4596' max='5745' style='width:300px; height:20px; vertical-align: middle;'></progress>\n",
       "      [4596/5745 1:00:54 < 15:14, 1.26 it/s, Epoch 4/5]\n",
       "    </div>\n",
       "    <table border=\"1\" class=\"dataframe\">\n",
       "  <thead>\n",
       " <tr style=\"text-align: left;\">\n",
       "      <th>Epoch</th>\n",
       "      <th>Training Loss</th>\n",
       "      <th>Validation Loss</th>\n",
       "      <th>Accuracy</th>\n",
       "      <th>F1</th>\n",
       "      <th>Precision</th>\n",
       "      <th>Recall</th>\n",
       "    </tr>\n",
       "  </thead>\n",
       "  <tbody>\n",
       "    <tr>\n",
       "      <td>1</td>\n",
       "      <td>0.588800</td>\n",
       "      <td>0.547117</td>\n",
       "      <td>0.711798</td>\n",
       "      <td>0.718777</td>\n",
       "      <td>0.822157</td>\n",
       "      <td>0.638491</td>\n",
       "    </tr>\n",
       "    <tr>\n",
       "      <td>2</td>\n",
       "      <td>0.542400</td>\n",
       "      <td>0.546765</td>\n",
       "      <td>0.721376</td>\n",
       "      <td>0.737058</td>\n",
       "      <td>0.808837</td>\n",
       "      <td>0.676981</td>\n",
       "    </tr>\n",
       "    <tr>\n",
       "      <td>3</td>\n",
       "      <td>0.499500</td>\n",
       "      <td>0.552476</td>\n",
       "      <td>0.722246</td>\n",
       "      <td>0.736799</td>\n",
       "      <td>0.812557</td>\n",
       "      <td>0.673962</td>\n",
       "    </tr>\n",
       "    <tr>\n",
       "      <td>4</td>\n",
       "      <td>0.426000</td>\n",
       "      <td>0.577521</td>\n",
       "      <td>0.719199</td>\n",
       "      <td>0.733361</td>\n",
       "      <td>0.810786</td>\n",
       "      <td>0.669434</td>\n",
       "    </tr>\n",
       "  </tbody>\n",
       "</table><p>"
      ],
      "text/plain": [
       "<IPython.core.display.HTML object>"
      ]
     },
     "metadata": {},
     "output_type": "display_data"
    },
    {
     "data": {
      "text/plain": [
       "TrainOutput(global_step=4596, training_loss=0.4902529336764981, metrics={'train_runtime': 3655.3716, 'train_samples_per_second': 25.126, 'train_steps_per_second': 1.572, 'total_flos': 1.933234790363136e+16, 'train_loss': 0.4902529336764981, 'epoch': 4.0})"
      ]
     },
     "execution_count": 5,
     "metadata": {},
     "output_type": "execute_result"
    }
   ],
   "source": [
    "config = AutoConfig.from_pretrained(pretrained_model, num_labels=2, hidden_dropout_prob=0.2, attention_probs_dropout_prob=0.2)\n",
    "model = AutoModelForSequenceClassification.from_pretrained(pretrained_model, config=config)\n",
    "tokenizer = AutoTokenizer.from_pretrained(pretrained_model)\n",
    "device = torch.device(\"cuda\" if torch.cuda.is_available() else \"cpu\")\n",
    "model = model.to(device)\n",
    "model.config.id2label = {0: \"REAL\", 1: \"FAKE\"}\n",
    "model.config.label2id = {\"REAL\": 0, \"FAKE\": 1}\n",
    "training_args.num_train_epochs = 5\n",
    "training_args.learning_rate = 1.5e-5\n",
    "print(\"Model is on:\", next(model.parameters()).device)\n",
    "print(\"Learning rate:\", training_args.learning_rate)\n",
    "\n",
    "trainer = Trainer(\n",
    "    model=model,\n",
    "    args=training_args,\n",
    "    train_dataset=train_dataset,\n",
    "    eval_dataset=val_dataset,\n",
    "    tokenizer=tokenizer,\n",
    "    compute_metrics=compute_metrics,\n",
    "    callbacks=[EarlyStoppingCallback(early_stopping_patience=2)]\n",
    ")\n",
    "\n",
    "trainer.train()"
   ]
  },
  {
   "cell_type": "code",
   "execution_count": 9,
   "metadata": {},
   "outputs": [
    {
     "data": {
      "text/html": [],
      "text/plain": [
       "<IPython.core.display.HTML object>"
      ]
     },
     "metadata": {},
     "output_type": "display_data"
    },
    {
     "data": {
      "text/plain": [
       "{'eval_loss': 0.5524755716323853,\n",
       " 'eval_accuracy': 0.7222464083587288,\n",
       " 'eval_f1': 0.7367986798679867,\n",
       " 'eval_precision': 0.8125568698817106,\n",
       " 'eval_recall': 0.6739622641509434,\n",
       " 'eval_runtime': 33.2479,\n",
       " 'eval_samples_per_second': 69.087,\n",
       " 'eval_steps_per_second': 4.331,\n",
       " 'epoch': 4.0}"
      ]
     },
     "execution_count": 9,
     "metadata": {},
     "output_type": "execute_result"
    }
   ],
   "source": [
    "trainer.evaluate()"
   ]
  },
  {
   "cell_type": "code",
   "execution_count": 11,
   "metadata": {},
   "outputs": [
    {
     "data": {
      "text/plain": [
       "RobertaForSequenceClassification(\n",
       "  (roberta): RobertaModel(\n",
       "    (embeddings): RobertaEmbeddings(\n",
       "      (word_embeddings): Embedding(50265, 768, padding_idx=1)\n",
       "      (position_embeddings): Embedding(514, 768, padding_idx=1)\n",
       "      (token_type_embeddings): Embedding(1, 768)\n",
       "      (LayerNorm): LayerNorm((768,), eps=1e-05, elementwise_affine=True)\n",
       "      (dropout): Dropout(p=0.2, inplace=False)\n",
       "    )\n",
       "    (encoder): RobertaEncoder(\n",
       "      (layer): ModuleList(\n",
       "        (0-11): 12 x RobertaLayer(\n",
       "          (attention): RobertaAttention(\n",
       "            (self): RobertaSdpaSelfAttention(\n",
       "              (query): Linear(in_features=768, out_features=768, bias=True)\n",
       "              (key): Linear(in_features=768, out_features=768, bias=True)\n",
       "              (value): Linear(in_features=768, out_features=768, bias=True)\n",
       "              (dropout): Dropout(p=0.2, inplace=False)\n",
       "            )\n",
       "            (output): RobertaSelfOutput(\n",
       "              (dense): Linear(in_features=768, out_features=768, bias=True)\n",
       "              (LayerNorm): LayerNorm((768,), eps=1e-05, elementwise_affine=True)\n",
       "              (dropout): Dropout(p=0.2, inplace=False)\n",
       "            )\n",
       "          )\n",
       "          (intermediate): RobertaIntermediate(\n",
       "            (dense): Linear(in_features=768, out_features=3072, bias=True)\n",
       "            (intermediate_act_fn): GELUActivation()\n",
       "          )\n",
       "          (output): RobertaOutput(\n",
       "            (dense): Linear(in_features=3072, out_features=768, bias=True)\n",
       "            (LayerNorm): LayerNorm((768,), eps=1e-05, elementwise_affine=True)\n",
       "            (dropout): Dropout(p=0.2, inplace=False)\n",
       "          )\n",
       "        )\n",
       "      )\n",
       "    )\n",
       "  )\n",
       "  (classifier): RobertaClassificationHead(\n",
       "    (dense): Linear(in_features=768, out_features=768, bias=True)\n",
       "    (dropout): Dropout(p=0.2, inplace=False)\n",
       "    (out_proj): Linear(in_features=768, out_features=2, bias=True)\n",
       "  )\n",
       ")"
      ]
     },
     "execution_count": 11,
     "metadata": {},
     "output_type": "execute_result"
    }
   ],
   "source": [
    "model = AutoModelForSequenceClassification.from_pretrained(\"./results/checkpoint-2298\")\n",
    "trainer.model = model\n",
    "device = torch.device(\"cuda\" if torch.cuda.is_available() else \"cpu\")\n",
    "trainer.model.to(device)"
   ]
  },
  {
   "cell_type": "code",
   "execution_count": 10,
   "metadata": {},
   "outputs": [
    {
     "name": "stdout",
     "output_type": "stream",
     "text": [
      "Test Metrics:\n",
      "test_loss: 0.5445\n",
      "test_accuracy: 0.7291\n",
      "test_f1: 0.7406\n",
      "test_precision: 0.8260\n",
      "test_recall: 0.6712\n",
      "test_runtime: 33.6322\n",
      "test_samples_per_second: 68.2680\n",
      "test_steps_per_second: 4.2820\n"
     ]
    }
   ],
   "source": [
    "# Conduct testing on the test dataset\n",
    "test_results = trainer.predict(test_dataset)\n",
    "\n",
    "# Extract predictions and metrics\n",
    "predictions = test_results.predictions.argmax(-1)  # Convert logits to class predictions\n",
    "metrics = test_results.metrics  # Contains accuracy, F1, precision, recall, etc.\n",
    "\n",
    "# Print metrics\n",
    "print(\"Test Metrics:\")\n",
    "for key, value in metrics.items():\n",
    "    print(f\"{key}: {value:.4f}\")"
   ]
  },
  {
   "cell_type": "code",
   "execution_count": 12,
   "metadata": {},
   "outputs": [],
   "source": [
    "trainer.save_model(\"./without_icl/normal_augmented_roberta\")"
   ]
  },
  {
   "cell_type": "markdown",
   "metadata": {},
   "source": [
    "### First trained on original statements, then paraphrased statements:\n",
    "\n",
    "#### Before training on Augmented dataset:\n",
    "\n",
    "| Metric                   | Value     |\n",
    "|--------------------------|-----------|\n",
    "| Test Loss                | 0.5357    |\n",
    "| Test Accuracy            | 0.7165    |\n",
    "| Test F1 Score            | 0.7426    |\n",
    "| Test Precision           | 0.7786    |\n",
    "| Test Recall              | 0.7098    |\n",
    "| Test Runtime (seconds)   | 33.2552   |\n",
    "| Test Samples/Second      | 69.0420   |\n",
    "| Test Steps/Second        | 4.3300    |\n",
    "\n",
    "#### After training on augmented statements:\n",
    "\n",
    "| Metric                   | Epoch 2   | Epoch 3   |\n",
    "|--------------------------|-----------|-----------|\n",
    "| Test Loss                | 0.5346    | 0.5445    |\n",
    "| Test Accuracy            | 0.7304    | 0.7291    |\n",
    "| Test F1 Score            | 0.7452    | 0.7406    |\n",
    "| Test Precision           | 0.8183    | 0.8260    |\n",
    "| Test Recall              | 0.6841    | 0.6712    |\n",
    "| Test Runtime (seconds)   | 33.6843   | 33.6322   |\n",
    "| Test Samples/Second      | 68.1620   | 68.2680   |\n",
    "| Test Steps/Second        | 4.2750    | 4.2820    |\n",
    "\n",
    "Saved epoch 2\n",
    "\n",
    "Note that this test metrics was tested on paraphrased statements.\n",
    "\n",
    "Results seemed to be better when tested on original statements."
   ]
  }
 ],
 "metadata": {
  "kernelspec": {
   "display_name": "Python 3",
   "language": "python",
   "name": "python3"
  },
  "language_info": {
   "codemirror_mode": {
    "name": "ipython",
    "version": 3
   },
   "file_extension": ".py",
   "mimetype": "text/x-python",
   "name": "python",
   "nbconvert_exporter": "python",
   "pygments_lexer": "ipython3",
   "version": "3.11.0"
  }
 },
 "nbformat": 4,
 "nbformat_minor": 2
}
