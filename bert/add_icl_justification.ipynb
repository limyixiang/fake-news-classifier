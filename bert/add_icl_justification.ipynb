{
 "cells": [
  {
   "cell_type": "code",
   "execution_count": 1,
   "metadata": {},
   "outputs": [
    {
     "name": "stderr",
     "output_type": "stream",
     "text": [
      "/Users/yixiang/Library/CloudStorage/OneDrive-NationalUniversityofSingapore/CS3264/Project/.venv/lib/python3.12/site-packages/tqdm/auto.py:21: TqdmWarning: IProgress not found. Please update jupyter and ipywidgets. See https://ipywidgets.readthedocs.io/en/stable/user_install.html\n",
      "  from .autonotebook import tqdm as notebook_tqdm\n"
     ]
    }
   ],
   "source": [
    "# Import libraries\n",
    "import os\n",
    "import json\n",
    "import pandas as pd\n",
    "import numpy as np\n",
    "import nltk\n",
    "import gensim\n",
    "import re\n",
    "import torch\n",
    "import torchvision\n",
    "from sklearn.model_selection import train_test_split\n",
    "from nltk.corpus import stopwords\n",
    "from nltk.tokenize import word_tokenize\n",
    "from nltk.stem import WordNetLemmatizer\n",
    "from gensim.models import Word2Vec\n",
    "from transformers import AutoTokenizer, AutoModelForSequenceClassification, AutoConfig\n",
    "from datasets import load_dataset\n",
    "from collections import Counter\n",
    "\n",
    "# # Download NLTK resources\n",
    "# nltk.download('punkt_tab')\n",
    "# nltk.download('stopwords')\n",
    "# nltk.download('wordnet')"
   ]
  },
  {
   "cell_type": "code",
   "execution_count": 2,
   "metadata": {},
   "outputs": [
    {
     "name": "stderr",
     "output_type": "stream",
     "text": [
      "Generating train split: 100%|██████████| 18369/18369 [00:00<00:00, 59600.33 examples/s]\n",
      "Generating validation split: 100%|██████████| 2297/2297 [00:00<00:00, 93382.02 examples/s]\n",
      "Generating test split: 100%|██████████| 2296/2296 [00:00<00:00, 87500.43 examples/s]\n"
     ]
    }
   ],
   "source": [
    "# Load the LIAR dataset\n",
    "dataset = \"chengxuphd/liar2\"\n",
    "dataset = load_dataset(dataset)\n",
    "\n",
    "pretrained_model = \"roberta-base\""
   ]
  },
  {
   "cell_type": "code",
   "execution_count": 6,
   "metadata": {},
   "outputs": [
    {
     "name": "stderr",
     "output_type": "stream",
     "text": [
      "Creating CSV from Arrow format: 100%|██████████| 19/19 [00:00<00:00, 78.10ba/s]\n",
      "Creating CSV from Arrow format: 100%|██████████| 3/3 [00:00<00:00, 81.31ba/s]\n",
      "Creating CSV from Arrow format: 100%|██████████| 3/3 [00:00<00:00, 87.52ba/s]\n"
     ]
    },
    {
     "data": {
      "text/plain": [
       "2382289"
      ]
     },
     "execution_count": 6,
     "metadata": {},
     "output_type": "execute_result"
    }
   ],
   "source": [
    "dataset[\"train\"].to_csv(\"../data/liar_train.csv\")\n",
    "dataset[\"validation\"].to_csv(\"../data/liar_val.csv\")\n",
    "dataset[\"test\"].to_csv(\"../data/liar_test.csv\")"
   ]
  },
  {
   "cell_type": "code",
   "execution_count": 3,
   "metadata": {},
   "outputs": [
    {
     "ename": "AttributeError",
     "evalue": "'DatasetDict' object has no attribute 'add_column'",
     "output_type": "error",
     "traceback": [
      "\u001b[31m---------------------------------------------------------------------------\u001b[39m",
      "\u001b[31mAttributeError\u001b[39m                            Traceback (most recent call last)",
      "\u001b[36mCell\u001b[39m\u001b[36m \u001b[39m\u001b[32mIn[3]\u001b[39m\u001b[32m, line 4\u001b[39m\n\u001b[32m      2\u001b[39m zero_shot_data = pd.read_csv(\u001b[33m\"\u001b[39m\u001b[33m../results_zero-shot_v2.csv\u001b[39m\u001b[33m\"\u001b[39m)\n\u001b[32m      3\u001b[39m linguistic_reasoning = zero_shot_data[\u001b[33m\"\u001b[39m\u001b[33mLinguistic Reasoning\u001b[39m\u001b[33m\"\u001b[39m].fillna(\u001b[33m\"\u001b[39m\u001b[33m\"\u001b[39m)\n\u001b[32m----> \u001b[39m\u001b[32m4\u001b[39m zero_shot_dataset = \u001b[43mdataset\u001b[49m\u001b[43m.\u001b[49m\u001b[43madd_column\u001b[49m(\u001b[33m\"\u001b[39m\u001b[33mlinguistic_reasoning\u001b[39m\u001b[33m\"\u001b[39m, linguistic_reasoning.tolist())\n\u001b[32m      5\u001b[39m \u001b[38;5;28mprint\u001b[39m(zero_shot_dataset)\n",
      "\u001b[31mAttributeError\u001b[39m: 'DatasetDict' object has no attribute 'add_column'"
     ]
    }
   ],
   "source": [
    "# Extract \"Linguistic Reasoning\" column from \"../results_zero-shot_v2.csv\"\n",
    "zero_shot_data = pd.read_csv(\"../results_zero-shot_v2.csv\")\n",
    "linguistic_reasoning = zero_shot_data[\"Linguistic Reasoning\"].fillna(\"\")\n",
    "zero_shot_dataset = dataset.add_column(\"linguistic_reasoning\", linguistic_reasoning.tolist())\n",
    "print(zero_shot_dataset)"
   ]
  },
  {
   "cell_type": "code",
   "execution_count": null,
   "metadata": {},
   "outputs": [],
   "source": [
    "# Extract \"Linguistic Reasoning\" column from  \"../results_few-shot_v2.csv\""
   ]
  },
  {
   "cell_type": "code",
   "execution_count": null,
   "metadata": {},
   "outputs": [],
   "source": [
    "# Define a top-level function for dataset mapping.\n",
    "def add_backtranslated_texts(examples):\n",
    "    return {\"paraphrased_statement\": back_translate_batch(examples[\"statement\"])}\n",
    "\n",
    "# Use the dataset's map function with parallel processing.\n",
    "zero_shot_dataset = dataset.map(\n",
    "    add_backtranslated_texts,\n",
    "    batched=True,\n",
    ")"
   ]
  },
  {
   "cell_type": "code",
   "execution_count": null,
   "metadata": {},
   "outputs": [],
   "source": [
    "zero_shot_dataset.save_to_disk(\"liar2_zero_shot\")"
   ]
  },
  {
   "cell_type": "code",
   "execution_count": null,
   "metadata": {},
   "outputs": [],
   "source": [
    "# Define a top-level function for dataset mapping.\n",
    "def add_backtranslated_texts(examples):\n",
    "    return {\"paraphrased_statement\": back_translate_batch(examples[\"statement\"])}\n",
    "\n",
    "# Use the dataset's map function with parallel processing.\n",
    "few_shot_dataset = dataset.map(\n",
    "    add_backtranslated_texts,\n",
    "    batched=True,\n",
    ")"
   ]
  },
  {
   "cell_type": "code",
   "execution_count": null,
   "metadata": {},
   "outputs": [],
   "source": [
    "few_shot_dataset.save_to_disk(\"liar2_few_shot\")"
   ]
  }
 ],
 "metadata": {
  "kernelspec": {
   "display_name": ".venv",
   "language": "python",
   "name": "python3"
  },
  "language_info": {
   "codemirror_mode": {
    "name": "ipython",
    "version": 3
   },
   "file_extension": ".py",
   "mimetype": "text/x-python",
   "name": "python",
   "nbconvert_exporter": "python",
   "pygments_lexer": "ipython3",
   "version": "3.12.8"
  }
 },
 "nbformat": 4,
 "nbformat_minor": 2
}
