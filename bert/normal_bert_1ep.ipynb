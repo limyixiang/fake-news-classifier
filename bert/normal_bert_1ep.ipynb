{
 "cells": [
  {
   "cell_type": "code",
   "execution_count": 2,
   "metadata": {},
   "outputs": [],
   "source": [
    "# Import libraries\n",
    "import os\n",
    "import json\n",
    "import pandas as pd\n",
    "import numpy as np\n",
    "import nltk\n",
    "import gensim\n",
    "import re\n",
    "import torch\n",
    "import torchvision\n",
    "from sklearn.model_selection import train_test_split\n",
    "from nltk.corpus import stopwords\n",
    "from nltk.tokenize import word_tokenize\n",
    "from nltk.stem import WordNetLemmatizer\n",
    "from gensim.models import Word2Vec\n",
    "from transformers import AutoTokenizer, AutoModelForSequenceClassification, AutoConfig\n",
    "from datasets import load_dataset\n",
    "from collections import Counter\n",
    "\n",
    "# # Download NLTK resources\n",
    "# nltk.download('punkt_tab')\n",
    "# nltk.download('stopwords')\n",
    "# nltk.download('wordnet')"
   ]
  },
  {
   "cell_type": "code",
   "execution_count": null,
   "metadata": {},
   "outputs": [],
   "source": [
    "# Load the LIAR dataset\n",
    "dataset = \"chengxuphd/liar2\"\n",
    "dataset = load_dataset(dataset)\n",
    "\n",
    "pretrained_model = \"jy46604790/Fake-News-Bert-Detect\"\n",
    "\n",
    "tokenizer = AutoTokenizer.from_pretrained(pretrained_model)\n",
    "\n",
    "# # Tokenization function\n",
    "# def tokenize_function(examples):\n",
    "#     return tokenizer(examples[\"statement\"], padding=\"max_length\", truncation=True)\n",
    "\n",
    "# Preprocessing function for text\n",
    "def preprocess_text(text):\n",
    "    text = text.lower()  # Lowercasing\n",
    "    text = re.sub(r'\\W', ' ', text)  # Remove non-alphanumeric characters\n",
    "    tokens = word_tokenize(text)  # Tokenization\n",
    "    tokens = [word for word in tokens if word.isalpha()]  # Remove numbers and punctuation\n",
    "    tokens = [word for word in tokens if word not in stopwords.words('english')]  # Stopword removal\n",
    "    lemmatizer = WordNetLemmatizer()\n",
    "    tokens = [lemmatizer.lemmatize(word) for word in tokens]  # Lemmatization\n",
    "    \n",
    "    return \" \".join(tokens) if tokens else \"\"  # Return the processed text as a string\n",
    "\n",
    "# Combine metadata with the preprocessed statement\n",
    "def preprocess_function(examples):\n",
    "    combined_input = [\n",
    "        \"Subject: \" + (subject if subject is not None else \"\") + \n",
    "        \"; Speaker: \" + (speaker if speaker is not None else \"\") + \n",
    "        \"; Speaker Description: \" + (speaker_description if speaker_description is not None else \"\") + \n",
    "        \"; State: \" + (state_info if state_info is not None else \"\") + \n",
    "        \"; Context: \" + (context if context is not None else \"\") + \n",
    "        \"; Statement: \" + (statement if statement is not None else \"\")  # Don't apply preprocess_text here\n",
    "        # \"; Statement: \" + preprocess_text(statement if statement is not None else \"\")  # Apply preprocess_text here\n",
    "        for subject, speaker, speaker_description, state_info, context, statement in zip(\n",
    "            examples[\"subject\"],\n",
    "            examples[\"speaker\"],\n",
    "            examples[\"speaker_description\"],\n",
    "            examples[\"state_info\"],\n",
    "            examples[\"context\"],\n",
    "            examples[\"statement\"]\n",
    "        )\n",
    "    ]\n",
    "    return tokenizer(combined_input, padding=\"max_length\", truncation=True)\n",
    "\n",
    "# Apply tokenization to the dataset\n",
    "tokenized_datasets = dataset.map(preprocess_function, batched=True)\n",
    "\n",
    "# Remove unnecessary columns and set format for PyTorch\n",
    "tokenized_datasets = tokenized_datasets.remove_columns([\"id\", \"subject\", \"speaker\", \"speaker_description\", \"state_info\", \"context\", \"true_counts\", \"mostly_true_counts\", \"half_true_counts\", \"mostly_false_counts\", \"false_counts\", \"pants_on_fire_counts\", \"justification\"])\n",
    "# tokenized_datasets = tokenized_datasets.rename_column(\"label\", \"labels\")\n",
    "tokenized_datasets.set_format(\"torch\")\n",
    "\n",
    "# Preprocess labels to binary True / False\n",
    "# label_to_binary = {\n",
    "#     'false': False,\n",
    "#     'half-true': True,\n",
    "#     'mostly-true': True,\n",
    "#     'true': True,\n",
    "#     'barely-true': False,\n",
    "#     'pants-fire': False\n",
    "# }\n",
    "label_to_binary = {\n",
    "    # True = FAKE; False = REAL\n",
    "    0: True,\n",
    "    1: True,\n",
    "    2: True,\n",
    "    3: False,\n",
    "    4: False,\n",
    "    5: False\n",
    "}\n",
    "\n",
    "# Apply binary label preprocessing\n",
    "tokenized_datasets = tokenized_datasets.map(\n",
    "    lambda examples: {\"label\": [label_to_binary[int(label)] for label in examples[\"label\"]]},\n",
    "    batched=True\n",
    ")\n",
    "\n",
    "# Split into train, validation, and test sets\n",
    "train_dataset = tokenized_datasets[\"train\"]\n",
    "val_dataset = tokenized_datasets[\"validation\"]\n",
    "test_dataset = tokenized_datasets[\"test\"]"
   ]
  },
  {
   "cell_type": "code",
   "execution_count": 4,
   "metadata": {},
   "outputs": [
    {
     "name": "stdout",
     "output_type": "stream",
     "text": [
      "Label distribution in train dataset: Counter({1: 10591, 0: 7778})\n"
     ]
    }
   ],
   "source": [
    "# Verify that dataset is preprocessed correctly\n",
    "\n",
    "# Check label distribution in the train dataset\n",
    "label_list = train_dataset[\"label\"].tolist()\n",
    "print(\"Label distribution in train dataset:\", Counter(label_list))"
   ]
  },
  {
   "cell_type": "code",
   "execution_count": 5,
   "metadata": {},
   "outputs": [
    {
     "name": "stderr",
     "output_type": "stream",
     "text": [
      "c:\\Users\\limyi\\AppData\\Local\\Programs\\Python\\Python311\\Lib\\site-packages\\transformers\\training_args.py:1611: FutureWarning: `evaluation_strategy` is deprecated and will be removed in version 4.46 of 🤗 Transformers. Use `eval_strategy` instead\n",
      "  warnings.warn(\n"
     ]
    }
   ],
   "source": [
    "from transformers import TrainingArguments, Trainer, EarlyStoppingCallback\n",
    "from sklearn.metrics import accuracy_score, precision_recall_fscore_support\n",
    "\n",
    "# Define compute_metrics function\n",
    "def compute_metrics(pred):\n",
    "    labels = pred.label_ids\n",
    "    preds = pred.predictions.argmax(-1)\n",
    "    precision, recall, f1, _ = precision_recall_fscore_support(labels, preds, average=\"binary\")\n",
    "    acc = accuracy_score(labels, preds)\n",
    "    return {\n",
    "        \"accuracy\": acc,\n",
    "        \"f1\": f1,\n",
    "        \"precision\": precision,\n",
    "        \"recall\": recall,\n",
    "    }\n",
    "\n",
    "# Define training arguments (epoch)\n",
    "training_args = TrainingArguments(\n",
    "    output_dir=\"./results\",\n",
    "    evaluation_strategy=\"epoch\",\n",
    "    save_strategy=\"epoch\",\n",
    "    per_device_train_batch_size=16,\n",
    "    per_device_eval_batch_size=16,\n",
    "    num_train_epochs=5,\n",
    "    weight_decay=0.01,\n",
    "    learning_rate=2e-5,\n",
    "    lr_scheduler_type=\"cosine\",\n",
    "    warmup_steps=500,\n",
    "    logging_dir=\"./logs\",\n",
    "    logging_steps=10,\n",
    "    report_to=\"none\",\n",
    "    load_best_model_at_end=True,  # Load the best model at the end of training\n",
    "    metric_for_best_model=\"recall\",  # Specify the metric to monitor\n",
    "    greater_is_better=True       # Specify if higher values of the metric are better\n",
    ")\n",
    "\n",
    "# # Define training arguments (steps for smaller batch logging)\n",
    "# training_args = TrainingArguments(\n",
    "#     output_dir=\"./results\",\n",
    "#     evaluation_strategy=\"steps\",  # Evaluate during training\n",
    "#     eval_steps=100,               # Evaluate every 100 steps\n",
    "#     save_strategy=\"steps\",        # Save checkpoints every 100 steps\n",
    "#     save_steps=100,\n",
    "#     per_device_train_batch_size=16,\n",
    "#     per_device_eval_batch_size=16,\n",
    "#     num_train_epochs=3,\n",
    "#     weight_decay=0.01,\n",
    "#     learning_rate=2e-5,\n",
    "#     logging_dir=\"./logs\",\n",
    "#     logging_steps=10,             # Log every 10 steps\n",
    "#     report_to=\"none\",\n",
    "#     load_best_model_at_end=True,  # Load the best model at the end of training\n",
    "#     metric_for_best_model=\"f1\",  # Specify the metric to monitor\n",
    "#     greater_is_better=True       # Specify if higher values of the metric are better\n",
    "# )"
   ]
  },
  {
   "cell_type": "code",
   "execution_count": 6,
   "metadata": {},
   "outputs": [
    {
     "name": "stdout",
     "output_type": "stream",
     "text": [
      "Model is on: cuda:0\n",
      "Learning rate: 2e-05\n"
     ]
    },
    {
     "name": "stderr",
     "output_type": "stream",
     "text": [
      "C:\\Users\\limyi\\AppData\\Local\\Temp\\ipykernel_6412\\1055552358.py:13: FutureWarning: `tokenizer` is deprecated and will be removed in version 5.0.0 for `Trainer.__init__`. Use `processing_class` instead.\n",
      "  trainer = Trainer(\n"
     ]
    },
    {
     "data": {
      "text/html": [
       "\n",
       "    <div>\n",
       "      \n",
       "      <progress value='1149' max='1149' style='width:300px; height:20px; vertical-align: middle;'></progress>\n",
       "      [1149/1149 16:06, Epoch 1/1]\n",
       "    </div>\n",
       "    <table border=\"1\" class=\"dataframe\">\n",
       "  <thead>\n",
       " <tr style=\"text-align: left;\">\n",
       "      <th>Epoch</th>\n",
       "      <th>Training Loss</th>\n",
       "      <th>Validation Loss</th>\n",
       "      <th>Accuracy</th>\n",
       "      <th>F1</th>\n",
       "      <th>Precision</th>\n",
       "      <th>Recall</th>\n",
       "    </tr>\n",
       "  </thead>\n",
       "  <tbody>\n",
       "    <tr>\n",
       "      <td>1</td>\n",
       "      <td>0.582600</td>\n",
       "      <td>0.550536</td>\n",
       "      <td>0.710492</td>\n",
       "      <td>0.733253</td>\n",
       "      <td>0.782534</td>\n",
       "      <td>0.689811</td>\n",
       "    </tr>\n",
       "  </tbody>\n",
       "</table><p>"
      ],
      "text/plain": [
       "<IPython.core.display.HTML object>"
      ]
     },
     "metadata": {},
     "output_type": "display_data"
    },
    {
     "data": {
      "text/plain": [
       "TrainOutput(global_step=1149, training_loss=0.6256129830894105, metrics={'train_runtime': 967.2699, 'train_samples_per_second': 18.991, 'train_steps_per_second': 1.188, 'total_flos': 4833086975907840.0, 'train_loss': 0.6256129830894105, 'epoch': 1.0})"
      ]
     },
     "execution_count": 6,
     "metadata": {},
     "output_type": "execute_result"
    }
   ],
   "source": [
    "config = AutoConfig.from_pretrained(pretrained_model, num_labels=2, hidden_dropout_prob=0.2, attention_probs_dropout_prob=0.2)\n",
    "model = AutoModelForSequenceClassification.from_pretrained(pretrained_model, config=config)\n",
    "tokenizer = AutoTokenizer.from_pretrained(pretrained_model)\n",
    "device = torch.device(\"cuda\" if torch.cuda.is_available() else \"cpu\")\n",
    "model = model.to(device)\n",
    "model.config.id2label = {0: \"REAL\", 1: \"FAKE\"}\n",
    "model.config.label2id = {\"REAL\": 0, \"FAKE\": 1}\n",
    "training_args.num_train_epochs = 1\n",
    "training_args.learning_rate = 2e-5\n",
    "print(\"Model is on:\", next(model.parameters()).device)\n",
    "print(\"Learning rate:\", training_args.learning_rate)\n",
    "\n",
    "trainer = Trainer(\n",
    "    model=model,\n",
    "    args=training_args,\n",
    "    train_dataset=train_dataset,\n",
    "    eval_dataset=val_dataset,\n",
    "    tokenizer=tokenizer,\n",
    "    compute_metrics=compute_metrics,\n",
    ")\n",
    "\n",
    "trainer.train()"
   ]
  },
  {
   "cell_type": "code",
   "execution_count": 7,
   "metadata": {},
   "outputs": [
    {
     "data": {
      "text/html": [],
      "text/plain": [
       "<IPython.core.display.HTML object>"
      ]
     },
     "metadata": {},
     "output_type": "display_data"
    },
    {
     "data": {
      "text/plain": [
       "{'eval_loss': 0.5505357980728149,\n",
       " 'eval_accuracy': 0.7104919460165433,\n",
       " 'eval_f1': 0.7332531087043722,\n",
       " 'eval_precision': 0.7825342465753424,\n",
       " 'eval_recall': 0.689811320754717,\n",
       " 'eval_runtime': 34.8918,\n",
       " 'eval_samples_per_second': 65.832,\n",
       " 'eval_steps_per_second': 4.127,\n",
       " 'epoch': 1.0}"
      ]
     },
     "execution_count": 7,
     "metadata": {},
     "output_type": "execute_result"
    }
   ],
   "source": [
    "trainer.evaluate()"
   ]
  },
  {
   "cell_type": "code",
   "execution_count": 8,
   "metadata": {},
   "outputs": [
    {
     "name": "stdout",
     "output_type": "stream",
     "text": [
      "Test Metrics:\n",
      "test_loss: 0.5397\n",
      "test_accuracy: 0.7025\n",
      "test_f1: 0.7278\n",
      "test_precision: 0.7698\n",
      "test_recall: 0.6901\n",
      "test_runtime: 34.6825\n",
      "test_samples_per_second: 66.2010\n",
      "test_steps_per_second: 4.1520\n"
     ]
    }
   ],
   "source": [
    "# Conduct testing on the test dataset\n",
    "test_results = trainer.predict(test_dataset)\n",
    "\n",
    "# Extract predictions and metrics\n",
    "predictions = test_results.predictions.argmax(-1)  # Convert logits to class predictions\n",
    "metrics = test_results.metrics  # Contains accuracy, F1, precision, recall, etc.\n",
    "\n",
    "# Print metrics\n",
    "print(\"Test Metrics:\")\n",
    "for key, value in metrics.items():\n",
    "    print(f\"{key}: {value:.4f}\")"
   ]
  },
  {
   "cell_type": "code",
   "execution_count": 9,
   "metadata": {},
   "outputs": [],
   "source": [
    "trainer.save_model(\"./models_with_correct_labels/normal_bert_1ep_without_icl\")"
   ]
  },
  {
   "cell_type": "markdown",
   "metadata": {},
   "source": [
    "BEFORE/AFTER LABEL SWAP\n",
    "\n",
    "| Metric                   | BEFORE    | AFTER      |\n",
    "|--------------------------|-----------|------------|\n",
    "| Test Loss                | 0.5320    | 0.5397     |\n",
    "| Test Accuracy            | 0.7173    | 0.7025     |\n",
    "| Test F1 Score            | 0.6977    | 0.7278     |\n",
    "| Test Precision           | 0.6380    | 0.7698     |\n",
    "| Test Recall              | 0.7698    | 0.6901     |\n",
    "| Test Runtime (seconds)   | 33.1463   | 34.6825    |\n",
    "| Test Samples/Second      | 69.2690   | 66.2010    |\n",
    "| Test Steps/Second        | 4.3440    | 4.1520     |"
   ]
  },
  {
   "cell_type": "code",
   "execution_count": null,
   "metadata": {},
   "outputs": [],
   "source": []
  }
 ],
 "metadata": {
  "kernelspec": {
   "display_name": "Python 3",
   "language": "python",
   "name": "python3"
  },
  "language_info": {
   "codemirror_mode": {
    "name": "ipython",
    "version": 3
   },
   "file_extension": ".py",
   "mimetype": "text/x-python",
   "name": "python",
   "nbconvert_exporter": "python",
   "pygments_lexer": "ipython3",
   "version": "3.11.0"
  }
 },
 "nbformat": 4,
 "nbformat_minor": 2
}
