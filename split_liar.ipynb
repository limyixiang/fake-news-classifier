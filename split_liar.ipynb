{
 "cells": [
  {
   "cell_type": "code",
   "execution_count": 4,
   "metadata": {},
   "outputs": [
    {
     "name": "stdout",
     "output_type": "stream",
     "text": [
      "Combined subsets saved successfully!\n"
     ]
    }
   ],
   "source": [
    "import pandas as pd\n",
    "\n",
    "# Load your dataset\n",
    "df = pd.read_csv(\"./data/liar_test.csv\") \n",
    "\n",
    "# Group the dataset by labels\n",
    "label_groups = {label: group for label, group in df.groupby(\"label\")}\n",
    "\n",
    "# Find the minimum number of rows available for each label\n",
    "min_count = min(len(label_groups[label]) for label in range(6))\n",
    "\n",
    "# Sample equal number of rows for each label\n",
    "balanced_groups = {label: group.sample(n=min_count, random_state=42) for label, group in label_groups.items()}\n",
    "\n",
    "# Combine labels 0-3 into Subset 1\n",
    "subset1 = pd.concat([balanced_groups[label] for label in range(4)])\n",
    "\n",
    "# Combine labels 4-5 into Subset 2\n",
    "subset2 = pd.concat([balanced_groups[label] for label in range(4, 6)])\n",
    "\n",
    "# Ensure equal sum of rows in Subset 1 and Subset 2\n",
    "final_count = min(len(subset1), len(subset2))\n",
    "subset1 = subset1.sample(n=final_count, random_state=42)\n",
    "subset2 = subset2.sample(n=final_count, random_state=42)\n",
    "\n",
    "# Combine the subsets into a single DataFrame\n",
    "combined_df = pd.concat([subset1, subset2])\n",
    "\n",
    "# Save the combined DataFrame to a CSV file\n",
    "combined_df.to_csv(\"./data/test.csv\", index=False)\n",
    "\n",
    "print(\"Combined subsets saved successfully!\")"
   ]
  },
  {
   "cell_type": "code",
   "execution_count": null,
   "metadata": {},
   "outputs": [],
   "source": []
  }
 ],
 "metadata": {
  "kernelspec": {
   "display_name": "Python 3",
   "language": "python",
   "name": "python3"
  },
  "language_info": {
   "codemirror_mode": {
    "name": "ipython",
    "version": 3
   },
   "file_extension": ".py",
   "mimetype": "text/x-python",
   "name": "python",
   "nbconvert_exporter": "python",
   "pygments_lexer": "ipython3",
   "version": "3.11.0"
  }
 },
 "nbformat": 4,
 "nbformat_minor": 2
}
